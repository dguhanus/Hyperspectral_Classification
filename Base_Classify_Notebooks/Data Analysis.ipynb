{
 "cells": [
  {
   "cell_type": "markdown",
   "metadata": {},
   "source": [
    "# Data Analysis of the Indian Pines hyperspectral image dataset\n",
    "\n",
    "This notebook depicts different visualizations of the indian pines dataset."
   ]
  },
  {
   "cell_type": "markdown",
   "metadata": {},
   "source": [
    "### 1. Importing modules "
   ]
  },
  {
   "cell_type": "code",
   "execution_count": 3,
   "metadata": {},
   "outputs": [],
   "source": [
    "import matplotlib.pyplot as plt\n",
    "import seaborn as sns\n",
    "import pandas as pd\n",
    "import numpy as np"
   ]
  },
  {
   "cell_type": "markdown",
   "metadata": {},
   "source": [
    "### 2. Read the dataset"
   ]
  },
  {
   "cell_type": "code",
   "execution_count": 9,
   "metadata": {},
   "outputs": [],
   "source": [
    "df = pd.read_csv('Dataset.csv')"
   ]
  },
  {
   "cell_type": "markdown",
   "metadata": {},
   "source": [
    "Showing initial 5 rows of the dataset"
   ]
  },
  {
   "cell_type": "markdown",
   "metadata": {},
   "source": [
    "### 3. Analysis"
   ]
  },
  {
   "cell_type": "code",
   "execution_count": 10,
   "metadata": {},
   "outputs": [
    {
     "data": {
      "text/html": [
       "<div>\n",
       "<style scoped>\n",
       "    .dataframe tbody tr th:only-of-type {\n",
       "        vertical-align: middle;\n",
       "    }\n",
       "\n",
       "    .dataframe tbody tr th {\n",
       "        vertical-align: top;\n",
       "    }\n",
       "\n",
       "    .dataframe thead th {\n",
       "        text-align: right;\n",
       "    }\n",
       "</style>\n",
       "<table border=\"1\" class=\"dataframe\">\n",
       "  <thead>\n",
       "    <tr style=\"text-align: right;\">\n",
       "      <th></th>\n",
       "      <th>band-1</th>\n",
       "      <th>band-2</th>\n",
       "      <th>band-3</th>\n",
       "      <th>band-4</th>\n",
       "      <th>band-5</th>\n",
       "      <th>band-6</th>\n",
       "      <th>band-7</th>\n",
       "      <th>band-8</th>\n",
       "      <th>band-9</th>\n",
       "      <th>band-10</th>\n",
       "      <th>...</th>\n",
       "      <th>band-192</th>\n",
       "      <th>band-193</th>\n",
       "      <th>band-194</th>\n",
       "      <th>band-195</th>\n",
       "      <th>band-196</th>\n",
       "      <th>band-197</th>\n",
       "      <th>band-198</th>\n",
       "      <th>band-199</th>\n",
       "      <th>band-200</th>\n",
       "      <th>class</th>\n",
       "    </tr>\n",
       "  </thead>\n",
       "  <tbody>\n",
       "    <tr>\n",
       "      <th>0</th>\n",
       "      <td>3172</td>\n",
       "      <td>4142</td>\n",
       "      <td>4506</td>\n",
       "      <td>4279</td>\n",
       "      <td>4782</td>\n",
       "      <td>5048</td>\n",
       "      <td>5213</td>\n",
       "      <td>5106</td>\n",
       "      <td>5053</td>\n",
       "      <td>4750</td>\n",
       "      <td>...</td>\n",
       "      <td>1094</td>\n",
       "      <td>1090</td>\n",
       "      <td>1112</td>\n",
       "      <td>1090</td>\n",
       "      <td>1062</td>\n",
       "      <td>1069</td>\n",
       "      <td>1057</td>\n",
       "      <td>1020</td>\n",
       "      <td>1020</td>\n",
       "      <td>3</td>\n",
       "    </tr>\n",
       "    <tr>\n",
       "      <th>1</th>\n",
       "      <td>2580</td>\n",
       "      <td>4266</td>\n",
       "      <td>4502</td>\n",
       "      <td>4426</td>\n",
       "      <td>4853</td>\n",
       "      <td>5249</td>\n",
       "      <td>5352</td>\n",
       "      <td>5353</td>\n",
       "      <td>5347</td>\n",
       "      <td>5065</td>\n",
       "      <td>...</td>\n",
       "      <td>1108</td>\n",
       "      <td>1104</td>\n",
       "      <td>1117</td>\n",
       "      <td>1091</td>\n",
       "      <td>1079</td>\n",
       "      <td>1085</td>\n",
       "      <td>1064</td>\n",
       "      <td>1029</td>\n",
       "      <td>1020</td>\n",
       "      <td>3</td>\n",
       "    </tr>\n",
       "    <tr>\n",
       "      <th>2</th>\n",
       "      <td>3687</td>\n",
       "      <td>4266</td>\n",
       "      <td>4421</td>\n",
       "      <td>4498</td>\n",
       "      <td>5019</td>\n",
       "      <td>5293</td>\n",
       "      <td>5438</td>\n",
       "      <td>5427</td>\n",
       "      <td>5383</td>\n",
       "      <td>5132</td>\n",
       "      <td>...</td>\n",
       "      <td>1111</td>\n",
       "      <td>1114</td>\n",
       "      <td>1114</td>\n",
       "      <td>1100</td>\n",
       "      <td>1065</td>\n",
       "      <td>1092</td>\n",
       "      <td>1061</td>\n",
       "      <td>1030</td>\n",
       "      <td>1016</td>\n",
       "      <td>3</td>\n",
       "    </tr>\n",
       "    <tr>\n",
       "      <th>3</th>\n",
       "      <td>2749</td>\n",
       "      <td>4258</td>\n",
       "      <td>4603</td>\n",
       "      <td>4493</td>\n",
       "      <td>4958</td>\n",
       "      <td>5234</td>\n",
       "      <td>5417</td>\n",
       "      <td>5355</td>\n",
       "      <td>5349</td>\n",
       "      <td>5096</td>\n",
       "      <td>...</td>\n",
       "      <td>1122</td>\n",
       "      <td>1108</td>\n",
       "      <td>1109</td>\n",
       "      <td>1109</td>\n",
       "      <td>1071</td>\n",
       "      <td>1088</td>\n",
       "      <td>1060</td>\n",
       "      <td>1030</td>\n",
       "      <td>1006</td>\n",
       "      <td>3</td>\n",
       "    </tr>\n",
       "    <tr>\n",
       "      <th>4</th>\n",
       "      <td>2746</td>\n",
       "      <td>4018</td>\n",
       "      <td>4675</td>\n",
       "      <td>4417</td>\n",
       "      <td>4886</td>\n",
       "      <td>5117</td>\n",
       "      <td>5215</td>\n",
       "      <td>5096</td>\n",
       "      <td>5098</td>\n",
       "      <td>4834</td>\n",
       "      <td>...</td>\n",
       "      <td>1110</td>\n",
       "      <td>1107</td>\n",
       "      <td>1112</td>\n",
       "      <td>1094</td>\n",
       "      <td>1072</td>\n",
       "      <td>1087</td>\n",
       "      <td>1052</td>\n",
       "      <td>1034</td>\n",
       "      <td>1019</td>\n",
       "      <td>3</td>\n",
       "    </tr>\n",
       "  </tbody>\n",
       "</table>\n",
       "<p>5 rows × 201 columns</p>\n",
       "</div>"
      ],
      "text/plain": [
       "   band-1  band-2  band-3  band-4  band-5  band-6  band-7  band-8  band-9  \\\n",
       "0    3172    4142    4506    4279    4782    5048    5213    5106    5053   \n",
       "1    2580    4266    4502    4426    4853    5249    5352    5353    5347   \n",
       "2    3687    4266    4421    4498    5019    5293    5438    5427    5383   \n",
       "3    2749    4258    4603    4493    4958    5234    5417    5355    5349   \n",
       "4    2746    4018    4675    4417    4886    5117    5215    5096    5098   \n",
       "\n",
       "   band-10  ...  band-192  band-193  band-194  band-195  band-196  band-197  \\\n",
       "0     4750  ...      1094      1090      1112      1090      1062      1069   \n",
       "1     5065  ...      1108      1104      1117      1091      1079      1085   \n",
       "2     5132  ...      1111      1114      1114      1100      1065      1092   \n",
       "3     5096  ...      1122      1108      1109      1109      1071      1088   \n",
       "4     4834  ...      1110      1107      1112      1094      1072      1087   \n",
       "\n",
       "   band-198  band-199  band-200  class  \n",
       "0      1057      1020      1020      3  \n",
       "1      1064      1029      1020      3  \n",
       "2      1061      1030      1016      3  \n",
       "3      1060      1030      1006      3  \n",
       "4      1052      1034      1019      3  \n",
       "\n",
       "[5 rows x 201 columns]"
      ]
     },
     "execution_count": 10,
     "metadata": {},
     "output_type": "execute_result"
    }
   ],
   "source": [
    "df.head()"
   ]
  },
  {
   "cell_type": "markdown",
   "metadata": {},
   "source": [
    "Showing randomly 6 rows of the dataset"
   ]
  },
  {
   "cell_type": "code",
   "execution_count": 11,
   "metadata": {},
   "outputs": [
    {
     "data": {
      "text/html": [
       "<div>\n",
       "<style scoped>\n",
       "    .dataframe tbody tr th:only-of-type {\n",
       "        vertical-align: middle;\n",
       "    }\n",
       "\n",
       "    .dataframe tbody tr th {\n",
       "        vertical-align: top;\n",
       "    }\n",
       "\n",
       "    .dataframe thead th {\n",
       "        text-align: right;\n",
       "    }\n",
       "</style>\n",
       "<table border=\"1\" class=\"dataframe\">\n",
       "  <thead>\n",
       "    <tr style=\"text-align: right;\">\n",
       "      <th></th>\n",
       "      <th>band-1</th>\n",
       "      <th>band-2</th>\n",
       "      <th>band-3</th>\n",
       "      <th>band-4</th>\n",
       "      <th>band-5</th>\n",
       "      <th>band-6</th>\n",
       "      <th>band-7</th>\n",
       "      <th>band-8</th>\n",
       "      <th>band-9</th>\n",
       "      <th>band-10</th>\n",
       "      <th>...</th>\n",
       "      <th>band-192</th>\n",
       "      <th>band-193</th>\n",
       "      <th>band-194</th>\n",
       "      <th>band-195</th>\n",
       "      <th>band-196</th>\n",
       "      <th>band-197</th>\n",
       "      <th>band-198</th>\n",
       "      <th>band-199</th>\n",
       "      <th>band-200</th>\n",
       "      <th>class</th>\n",
       "    </tr>\n",
       "  </thead>\n",
       "  <tbody>\n",
       "    <tr>\n",
       "      <th>6580</th>\n",
       "      <td>3868</td>\n",
       "      <td>4377</td>\n",
       "      <td>4882</td>\n",
       "      <td>4723</td>\n",
       "      <td>5329</td>\n",
       "      <td>5676</td>\n",
       "      <td>5876</td>\n",
       "      <td>5823</td>\n",
       "      <td>5814</td>\n",
       "      <td>5657</td>\n",
       "      <td>...</td>\n",
       "      <td>1120</td>\n",
       "      <td>1132</td>\n",
       "      <td>1131</td>\n",
       "      <td>1097</td>\n",
       "      <td>1084</td>\n",
       "      <td>1091</td>\n",
       "      <td>1051</td>\n",
       "      <td>1039</td>\n",
       "      <td>1019</td>\n",
       "      <td>2</td>\n",
       "    </tr>\n",
       "    <tr>\n",
       "      <th>11228</th>\n",
       "      <td>2761</td>\n",
       "      <td>4244</td>\n",
       "      <td>4570</td>\n",
       "      <td>4416</td>\n",
       "      <td>4767</td>\n",
       "      <td>5174</td>\n",
       "      <td>5150</td>\n",
       "      <td>5112</td>\n",
       "      <td>5045</td>\n",
       "      <td>4821</td>\n",
       "      <td>...</td>\n",
       "      <td>1115</td>\n",
       "      <td>1106</td>\n",
       "      <td>1116</td>\n",
       "      <td>1093</td>\n",
       "      <td>1066</td>\n",
       "      <td>1084</td>\n",
       "      <td>1063</td>\n",
       "      <td>1023</td>\n",
       "      <td>1018</td>\n",
       "      <td>11</td>\n",
       "    </tr>\n",
       "    <tr>\n",
       "      <th>18178</th>\n",
       "      <td>3317</td>\n",
       "      <td>4095</td>\n",
       "      <td>4108</td>\n",
       "      <td>4043</td>\n",
       "      <td>4276</td>\n",
       "      <td>4640</td>\n",
       "      <td>4649</td>\n",
       "      <td>4482</td>\n",
       "      <td>4486</td>\n",
       "      <td>4189</td>\n",
       "      <td>...</td>\n",
       "      <td>1057</td>\n",
       "      <td>1050</td>\n",
       "      <td>1044</td>\n",
       "      <td>1049</td>\n",
       "      <td>1033</td>\n",
       "      <td>1030</td>\n",
       "      <td>1026</td>\n",
       "      <td>1005</td>\n",
       "      <td>1009</td>\n",
       "      <td>5</td>\n",
       "    </tr>\n",
       "    <tr>\n",
       "      <th>2273</th>\n",
       "      <td>4016</td>\n",
       "      <td>4638</td>\n",
       "      <td>4979</td>\n",
       "      <td>4871</td>\n",
       "      <td>5333</td>\n",
       "      <td>5879</td>\n",
       "      <td>5958</td>\n",
       "      <td>6037</td>\n",
       "      <td>6004</td>\n",
       "      <td>5764</td>\n",
       "      <td>...</td>\n",
       "      <td>1135</td>\n",
       "      <td>1134</td>\n",
       "      <td>1142</td>\n",
       "      <td>1123</td>\n",
       "      <td>1086</td>\n",
       "      <td>1110</td>\n",
       "      <td>1073</td>\n",
       "      <td>1020</td>\n",
       "      <td>1024</td>\n",
       "      <td>11</td>\n",
       "    </tr>\n",
       "    <tr>\n",
       "      <th>18287</th>\n",
       "      <td>2560</td>\n",
       "      <td>4105</td>\n",
       "      <td>4397</td>\n",
       "      <td>4489</td>\n",
       "      <td>4778</td>\n",
       "      <td>5192</td>\n",
       "      <td>5224</td>\n",
       "      <td>5100</td>\n",
       "      <td>5138</td>\n",
       "      <td>4916</td>\n",
       "      <td>...</td>\n",
       "      <td>1094</td>\n",
       "      <td>1097</td>\n",
       "      <td>1099</td>\n",
       "      <td>1086</td>\n",
       "      <td>1061</td>\n",
       "      <td>1071</td>\n",
       "      <td>1046</td>\n",
       "      <td>1027</td>\n",
       "      <td>1013</td>\n",
       "      <td>3</td>\n",
       "    </tr>\n",
       "    <tr>\n",
       "      <th>20716</th>\n",
       "      <td>3159</td>\n",
       "      <td>3871</td>\n",
       "      <td>4209</td>\n",
       "      <td>4039</td>\n",
       "      <td>4462</td>\n",
       "      <td>4782</td>\n",
       "      <td>4790</td>\n",
       "      <td>4661</td>\n",
       "      <td>4625</td>\n",
       "      <td>4345</td>\n",
       "      <td>...</td>\n",
       "      <td>1066</td>\n",
       "      <td>1059</td>\n",
       "      <td>1067</td>\n",
       "      <td>1061</td>\n",
       "      <td>1048</td>\n",
       "      <td>1050</td>\n",
       "      <td>1025</td>\n",
       "      <td>1013</td>\n",
       "      <td>1008</td>\n",
       "      <td>0</td>\n",
       "    </tr>\n",
       "  </tbody>\n",
       "</table>\n",
       "<p>6 rows × 201 columns</p>\n",
       "</div>"
      ],
      "text/plain": [
       "       band-1  band-2  band-3  band-4  band-5  band-6  band-7  band-8  band-9  \\\n",
       "6580     3868    4377    4882    4723    5329    5676    5876    5823    5814   \n",
       "11228    2761    4244    4570    4416    4767    5174    5150    5112    5045   \n",
       "18178    3317    4095    4108    4043    4276    4640    4649    4482    4486   \n",
       "2273     4016    4638    4979    4871    5333    5879    5958    6037    6004   \n",
       "18287    2560    4105    4397    4489    4778    5192    5224    5100    5138   \n",
       "20716    3159    3871    4209    4039    4462    4782    4790    4661    4625   \n",
       "\n",
       "       band-10  ...  band-192  band-193  band-194  band-195  band-196  \\\n",
       "6580      5657  ...      1120      1132      1131      1097      1084   \n",
       "11228     4821  ...      1115      1106      1116      1093      1066   \n",
       "18178     4189  ...      1057      1050      1044      1049      1033   \n",
       "2273      5764  ...      1135      1134      1142      1123      1086   \n",
       "18287     4916  ...      1094      1097      1099      1086      1061   \n",
       "20716     4345  ...      1066      1059      1067      1061      1048   \n",
       "\n",
       "       band-197  band-198  band-199  band-200  class  \n",
       "6580       1091      1051      1039      1019      2  \n",
       "11228      1084      1063      1023      1018     11  \n",
       "18178      1030      1026      1005      1009      5  \n",
       "2273       1110      1073      1020      1024     11  \n",
       "18287      1071      1046      1027      1013      3  \n",
       "20716      1050      1025      1013      1008      0  \n",
       "\n",
       "[6 rows x 201 columns]"
      ]
     },
     "execution_count": 11,
     "metadata": {},
     "output_type": "execute_result"
    }
   ],
   "source": [
    "df.sample(6)"
   ]
  },
  {
   "cell_type": "code",
   "execution_count": 12,
   "metadata": {},
   "outputs": [
    {
     "name": "stdout",
     "output_type": "stream",
     "text": [
      "Shape of the data: (21025, 201)\n"
     ]
    }
   ],
   "source": [
    "print(f'Shape of the data: {df.shape}')"
   ]
  },
  {
   "cell_type": "code",
   "execution_count": 15,
   "metadata": {},
   "outputs": [
    {
     "name": "stdout",
     "output_type": "stream",
     "text": [
      "Unique Class Labels: [ 3  0 15 11 12  5 10 14 16  2  4  8  6  9  1  7 13]\n"
     ]
    }
   ],
   "source": [
    "print(f\"Unique Class Labels: {df.loc[:, 'class'].unique()}\")"
   ]
  },
  {
   "cell_type": "code",
   "execution_count": 19,
   "metadata": {},
   "outputs": [
    {
     "data": {
      "text/plain": [
       "0     10776\n",
       "11     2455\n",
       "2      1428\n",
       "14     1265\n",
       "10      972\n",
       "3       830\n",
       "6       730\n",
       "12      593\n",
       "5       483\n",
       "8       478\n",
       "15      386\n",
       "4       237\n",
       "13      205\n",
       "16       93\n",
       "1        46\n",
       "7        28\n",
       "9        20\n",
       "Name: class, dtype: int64"
      ]
     },
     "execution_count": 19,
     "metadata": {},
     "output_type": "execute_result"
    }
   ],
   "source": [
    "df.loc[:, 'class'].value_counts()"
   ]
  },
  {
   "cell_type": "code",
   "execution_count": 42,
   "metadata": {},
   "outputs": [
    {
     "data": {
      "image/png": "[encoded data removed]",
      "text/plain": [
       "<Figure size 1008x576 with 1 Axes>"
      ]
     },
     "metadata": {
      "needs_background": "light"
     },
     "output_type": "display_data"
    }
   ],
   "source": [
    "plt.figure(figsize=(14, 8))\n",
    "\n",
    "ax = sns.countplot(x='class', data=df[['class']])\n",
    "\n",
    "for p in ax.patches:\n",
    "        ax.annotate('{:.1f}%'.format(100*p.get_height()/df.shape[0]), (p.get_x()+0.1, p.get_height()+5))\n",
    "ax.yaxis.set_major_locator(ticker.LinearLocator(11))\n",
    "\n",
    "plt.ylabel('Class count with percentage', fontsize=14)\n",
    "\n",
    "plt.xlabel('class', fontsize=14)\n",
    "\n",
    "plt.title('Bar Plot', fontsize=16)\n",
    "\n",
    "plt.show()"
   ]
  },
  {
   "cell_type": "markdown",
   "metadata": {},
   "source": [
    "### 4. Visualizing pixels of the Indian Pines HSI\n",
    "\n",
    "Usually the pixel of the indian pines HSI is a one dimensional vector with size (1, 200) ad the HSI has 200 bands.\n",
    "\n",
    "To visualize a vector is shown below:"
   ]
  },
  {
   "cell_type": "code",
   "execution_count": 54,
   "metadata": {},
   "outputs": [
    {
     "data": {
      "image/png": "[encoded data removed]",
      "text/plain": [
       "<Figure size 1152x144 with 1 Axes>"
      ]
     },
     "metadata": {
      "needs_background": "light"
     },
     "output_type": "display_data"
    }
   ],
   "source": [
    "# Visualizing the pixel\n",
    "plt.matshow(df.iloc[1, :-1].values.reshape(1,200), cmap='jet');"
   ]
  },
  {
   "cell_type": "markdown",
   "metadata": {},
   "source": [
    "It is difficult to interpret the visualization of a vetor. So, to overcome this problem the pixel vector is reshape into a 2-Dimensional array.\n",
    "* 200 => 10 X 20\n",
    "* (1, 200) => (10, 20)"
   ]
  },
  {
   "cell_type": "code",
   "execution_count": 74,
   "metadata": {},
   "outputs": [],
   "source": [
    "from mpl_toolkits.axes_grid1 import make_axes_locatable\n",
    "def plot_pixel(pixel, n):\n",
    "    ax = plt.gca()\n",
    "    im = ax.imshow(pixel.reshape(10, 20), cmap = 'jet')\n",
    "    plt.title(f'pixel - {n}')\n",
    "    plt.axis('off')\n",
    "    divider = make_axes_locatable(ax)\n",
    "    cax = divider.append_axes(\"right\", size=\"5%\", pad=0.05)\n",
    "    plt.colorbar(im, cax=cax)\n",
    "    plt.show()"
   ]
  },
  {
   "cell_type": "code",
   "execution_count": 91,
   "metadata": {},
   "outputs": [
    {
     "data": {
      "image/png": "[encoded data removed]",
      "text/plain": [
       "<Figure size 576x288 with 2 Axes>"
      ]
     },
     "metadata": {
      "needs_background": "light"
     },
     "output_type": "display_data"
    }
   ],
   "source": [
    "plt.figure(figsize=(8, 4))\n",
    "\n",
    "rand_n = np.random.randint(df.shape[0])\n",
    "\n",
    "plot_pixel(df.iloc[rand_n, :-1].values, rand_n)"
   ]
  },
  {
   "cell_type": "markdown",
   "metadata": {},
   "source": [
    "### 5. Box plot w.r.t bands of the HSI"
   ]
  },
  {
   "cell_type": "code",
   "execution_count": 106,
   "metadata": {},
   "outputs": [
    {
     "name": "stdout",
     "output_type": "stream",
     "text": [
      "Enter the band Number(1-200) :11\n"
     ]
    },
    {
     "data": {
      "image/png": "[encoded data removed]",
      "text/plain": [
       "<Figure size 1152x432 with 1 Axes>"
      ]
     },
     "metadata": {
      "needs_background": "light"
     },
     "output_type": "display_data"
    }
   ],
   "source": [
    "plt.figure(figsize=(16, 6))\n",
    "n = int(input('Enter the band Number(1-200) :'))\n",
    "sns.boxplot( x=df[\"class\"], y=df[\"band-1\"], width=0.3);\n",
    "plt.title('Box Plot', fontsize= 16)\n",
    "plt.xlabel('Class', fontsize= 14)\n",
    "plt.ylabel(f'Band-{n}', fontsize= 14)\n",
    "plt.show()"
   ]
  },
  {
   "cell_type": "markdown",
   "metadata": {},
   "source": [
    "### 6. Distribution Plot"
   ]
  },
  {
   "cell_type": "code",
   "execution_count": 117,
   "metadata": {},
   "outputs": [
    {
     "name": "stdout",
     "output_type": "stream",
     "text": [
      "Details of Band - 11: \n",
      "\n",
      "count    21025.000000\n",
      "mean      4407.192580\n",
      "std        596.191887\n",
      "min       2700.000000\n",
      "25%       3872.000000\n",
      "50%       4362.000000\n",
      "75%       4871.000000\n",
      "max       7990.000000\n",
      "Name: band-11, dtype: float64\n"
     ]
    }
   ],
   "source": [
    "print(f\"Details of Band - {n}: \\n\\n{df['band-'+str(n)].describe()}\")"
   ]
  },
  {
   "cell_type": "code",
   "execution_count": 125,
   "metadata": {},
   "outputs": [
    {
     "data": {
      "image/png": "[encoded data removed]",
      "text/plain": [
       "<Figure size 1152x432 with 1 Axes>"
      ]
     },
     "metadata": {
      "needs_background": "light"
     },
     "output_type": "display_data"
    }
   ],
   "source": [
    "plt.figure(figsize=(16, 6))\n",
    "sns.distplot(df['band-'+str(n)], color='mediumSpringGreen', bins=100, hist_kws={'alpha': 0.4});\n",
    "plt.xlabel('Band - '+str(n), fontsize=14)\n",
    "plt.title('Disrtibution Plot of Band - '+str(n), fontsize=16)\n",
    "plt.show()"
   ]
  },
  {
   "cell_type": "markdown",
   "metadata": {},
   "source": [
    "# Do star if you like the repository"
   ]
  }
 ],
 "metadata": {
  "kernelspec": {
   "display_name": "Python 3",
   "language": "python",
   "name": "python3"
  },
  "language_info": {
   "codemirror_mode": {
    "name": "ipython",
    "version": 3
   },
   "file_extension": ".py",
   "mimetype": "text/x-python",
   "name": "python",
   "nbconvert_exporter": "python",
   "pygments_lexer": "ipython3",
   "version": "3.6.7"
  }
 },
 "nbformat": 4,
 "nbformat_minor": 2
}
